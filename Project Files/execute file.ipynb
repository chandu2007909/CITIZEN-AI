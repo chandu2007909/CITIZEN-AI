{
  "cells": [
    {
      "cell_type": "markdown",
      "metadata": {
        "id": "S2iRE03cGzBx"
      },
      "source": [
        "#1. CITIZENSHIP **AI**"
      ]
    },
    {
      "cell_type": "markdown",
      "metadata": {
        "id": "owTDHB3MHGUW"
      },
      "source": [
        "## AN AI ASSISTANCE FOR LOCAL GOVERNANCE AWARENESS"
      ]
    },
    {
      "cell_type": "code",
      "execution_count": null,
      "metadata": {
        "colab": {
          "base_uri": "https://localhost:8080/"
        },
        "id": "4g8TcMZCFpaL",
        "outputId": "cfde43fe-cdd6-43aa-b645-2498bc78080c"
      },
      "outputs": [
        {
          "name": "stdout",
          "output_type": "stream",
          "text": [
            "Welcome to CivicBot – Your AI Guide to Local Governance 🚀\n",
            "Type your question below (or type 'exit' to quit):\n",
            "\n",
            "> How do I get a PAN Card?\n",
            "Apply for a PAN card here: https://www.incometax.gov.in/iec/foportal/\n",
            "\n",
            "> What are my RIGHTS?\n",
            "Every Indian citizen has fundamental rights like freedom of speech, equality, and education.\n",
            "\n",
            "> exit\n",
            "Thanks for using CivicBot. Stay informed and stay civic! ✨\n"
          ]
        }
      ],
      "source": [
        "def to_lower_case(text):\n",
        "    return text.lower()\n",
        "\n",
        "def handle_query(query):\n",
        "    if \"voter\" in query and \"id\" in query:\n",
        "        print(\"To apply for a Voter ID, visit: https://voterportal.eci.gov.in/\")\n",
        "    elif \"report\" in query and \"issue\" in query:\n",
        "        print(\"You can report civic issues using your local municipality's website or app.\")\n",
        "    elif \"aadhaar\" in query:\n",
        "        print(\"You can apply for an Aadhaar Card at: https://uidai.gov.in/\")\n",
        "    elif \"rights\" in query:\n",
        "        print(\"Every Indian citizen has fundamental rights like freedom of speech, equality, and education.\")\n",
        "    elif \"pan\" in query and \"card\" in query:\n",
        "        print(\"Apply for a PAN card here: https://www.incometax.gov.in/iec/foportal/\")\n",
        "    elif \"passport\" in query:\n",
        "        print(\"Visit https://www.passportindia.gov.in/ to apply for or renew a passport.\")\n",
        "    else:\n",
        "        print(\"Sorry, I couldn't understand your question. Please try asking about Voter ID, PAN card, Aadhaar, or similar topics.\")\n",
        "\n",
        "def main():\n",
        "    print(\"Welcome to CivicBot – Your AI Guide to Local Governance 🚀\")\n",
        "    print(\"Type your question below (or type 'exit' to quit):\")\n",
        "\n",
        "    while True:\n",
        "        user_input = input(\"\\n> \").strip()\n",
        "        query = to_lower_case(user_input)\n",
        "\n",
        "        if query == \"exit\":\n",
        "            print(\"Thanks for using CivicBot. Stay informed and stay civic! ✨\")\n",
        "            break\n",
        "\n",
        "        handle_query(query)\n",
        "\n",
        "if __name__ == \"__main__\":\n",
        "    main()\n"
      ]
    },
    {
      "cell_type": "markdown",
      "metadata": {
        "id": "FzSiYVhLNCwu"
      },
      "source": [
        "**2.SMART COMPLAINT TRACKER WITH VISUALIZATION"
      ]
    },
    {
      "cell_type": "code",
      "execution_count": null,
      "metadata": {
        "colab": {
          "background_save": true,
          "base_uri": "https://localhost:8080/",
          "height": 1000
        },
        "id": "yxl2Do2DOYXX",
        "outputId": "16e0fb14-5805-40f3-d2c8-4293bbeca081"
      },
      "outputs": [
        {
          "name": "stdout",
          "output_type": "stream",
          "text": [
            "🛠️ Welcome to the Civic Complaint System\n",
            "\n",
            "Choose an option:\n",
            "1. File a Complaint\n",
            "2. Process Next Complaint\n",
            "3. View All Pending Complaints\n",
            "4. Show Complaint Graph\n",
            "5. Exit\n",
            "✅ Complaint #1 filed under 'water' with priority 1\n",
            "\n",
            "Choose an option:\n",
            "1. File a Complaint\n",
            "2. Process Next Complaint\n",
            "3. View All Pending Complaints\n",
            "4. Show Complaint Graph\n",
            "5. Exit\n",
            "❌ Invalid option. Please choose between 1 and 5.\n",
            "\n",
            "Choose an option:\n",
            "1. File a Complaint\n",
            "2. Process Next Complaint\n",
            "3. View All Pending Complaints\n",
            "4. Show Complaint Graph\n",
            "5. Exit\n",
            "❌ Invalid option. Please choose between 1 and 5.\n",
            "\n",
            "Choose an option:\n",
            "1. File a Complaint\n",
            "2. Process Next Complaint\n",
            "3. View All Pending Complaints\n",
            "4. Show Complaint Graph\n",
            "5. Exit\n",
            "\n",
            "📋 Pending Complaints:\n",
            "#1 [Water] - No water supply since morning (25-06-2025 04:20)\n",
            "\n",
            "Choose an option:\n",
            "1. File a Complaint\n",
            "2. Process Next Complaint\n",
            "3. View All Pending Complaints\n",
            "4. Show Complaint Graph\n",
            "5. Exit\n",
            "\n",
            "🔧 Processing Complaint #1\n",
            "Category   : Water\n",
            "Description: No water supply since morning\n",
            "Timestamp  : 25-06-2025 04:20\n",
            "\n",
            "Choose an option:\n",
            "1. File a Complaint\n",
            "2. Process Next Complaint\n",
            "3. View All Pending Complaints\n",
            "4. Show Complaint Graph\n",
            "5. Exit\n"
          ]
        },
        {
          "name": "stderr",
          "output_type": "stream",
          "text": [
            "/tmp/ipython-input-13-2896166908.py:76: UserWarning: Glyph 129534 (\\N{RECEIPT}) missing from font(s) DejaVu Sans.\n",
            "  plt.tight_layout()\n",
            "/usr/local/lib/python3.11/dist-packages/IPython/core/pylabtools.py:151: UserWarning: Glyph 129534 (\\N{RECEIPT}) missing from font(s) DejaVu Sans.\n",
            "  fig.canvas.print_figure(bytes_io, **kw)\n"
          ]
        },
        {
          "data": {
            "image/png": "[encoded data removed]",
            "text/plain": [
              "<Figure size 800x500 with 1 Axes>"
            ]
          },
          "metadata": {},
          "output_type": "display_data"
        },
        {
          "name": "stdout",
          "output_type": "stream",
          "text": [
            "\n",
            "Choose an option:\n",
            "1. File a Complaint\n",
            "2. Process Next Complaint\n",
            "3. View All Pending Complaints\n",
            "4. Show Complaint Graph\n",
            "5. Exit\n"
          ]
        }
      ],
      "source": [
        "from queue import PriorityQueue\n",
        "from datetime import datetime\n",
        "import matplotlib.pyplot as plt\n",
        "\n",
        "# Global complaint store and tracker\n",
        "complaint_id = 1\n",
        "pq = PriorityQueue()\n",
        "category_counts = {}\n",
        "\n",
        "# Priority mapping\n",
        "priority_map = {\n",
        "    \"fire\": 1,\n",
        "    \"health\": 1,\n",
        "    \"water\": 1,\n",
        "    \"electricity\": 2,\n",
        "    \"road\": 2,\n",
        "    \"garbage\": 3,\n",
        "    \"streetlight\": 3\n",
        "}\n",
        "\n",
        "# File complaint\n",
        "def file_complaint(category, description):\n",
        "    global complaint_id\n",
        "    priority = priority_map.get(category.lower(), 3)\n",
        "    timestamp = datetime.now().strftime(\"%d-%m-%Y %H:%M\")\n",
        "    complaint = {\n",
        "        \"id\": complaint_id,\n",
        "        \"category\": category.lower(),\n",
        "        \"description\": description,\n",
        "        \"timestamp\": timestamp\n",
        "    }\n",
        "    pq.put((priority, complaint_id, complaint))\n",
        "    category_counts[category.lower()] = category_counts.get(category.lower(), 0) + 1\n",
        "    print(f\"✅ Complaint #{complaint_id} filed under '{category}' with priority {priority}\")\n",
        "    complaint_id += 1\n",
        "\n",
        "# Process complaint\n",
        "def process_complaint():\n",
        "    if pq.empty():\n",
        "        print(\"📭 No complaints to process.\")\n",
        "    else:\n",
        "        _, _, complaint = pq.get()\n",
        "        print(f\"\\n🔧 Processing Complaint #{complaint['id']}\")\n",
        "        print(f\"Category   : {complaint['category'].title()}\")\n",
        "        print(f\"Description: {complaint['description']}\")\n",
        "        print(f\"Timestamp  : {complaint['timestamp']}\")\n",
        "\n",
        "# View queue\n",
        "def view_complaints():\n",
        "    if pq.empty():\n",
        "        print(\"📭 Queue is empty.\")\n",
        "    else:\n",
        "        print(\"\\n📋 Pending Complaints:\")\n",
        "        for _, _, complaint in sorted(list(pq.queue)):\n",
        "            print(f\"#{complaint['id']} [{complaint['category'].title()}] - {complaint['description']} ({complaint['timestamp']})\")\n",
        "\n",
        "# Graph complaints\n",
        "def plot_complaints():\n",
        "    if not category_counts:\n",
        "        print(\"📊 No complaint data to graph yet.\")\n",
        "        return\n",
        "    categories = list(category_counts.keys())\n",
        "    counts = list(category_counts.values())\n",
        "\n",
        "    plt.figure(figsize=(8, 5))\n",
        "    bars = plt.bar(categories, counts, color='steelblue')\n",
        "    plt.xlabel(\"Complaint Category\")\n",
        "    plt.ylabel(\"Number of Complaints\")\n",
        "    plt.title(\"🧾 Complaints by Category\")\n",
        "    plt.grid(axis='y', linestyle='--', alpha=0.6)\n",
        "\n",
        "    for bar, count in zip(bars, counts):\n",
        "        yval = bar.get_height()\n",
        "        plt.text(bar.get_x() + bar.get_width()/2, yval + 0.1, count, ha='center', va='bottom')\n",
        "\n",
        "    plt.tight_layout()\n",
        "    plt.show()\n",
        "\n",
        "# Main menu\n",
        "def main():\n",
        "    print(\"🛠️ Welcome to the Civic Complaint System\")\n",
        "\n",
        "    while True:\n",
        "        print(\"\\nChoose an option:\")\n",
        "        print(\"1. File a Complaint\")\n",
        "        print(\"2. Process Next Complaint\")\n",
        "        print(\"3. View All Pending Complaints\")\n",
        "        print(\"4. Show Complaint Graph\")\n",
        "        print(\"5. Exit\")\n",
        "\n",
        "        choice = input(\"Enter your choice (1-5): \").strip()\n",
        "\n",
        "        if choice == '1':\n",
        "            category = input(\"Enter complaint category: \")\n",
        "            description = input(\"Enter complaint description: \")\n",
        "            file_complaint(category, description)\n",
        "        elif choice == '2':\n",
        "            process_complaint()\n",
        "        elif choice == '3':\n",
        "            view_complaints()\n",
        "        elif choice == '4':\n",
        "            plot_complaints()\n",
        "        elif choice == '5':\n",
        "            print(\"👋 Thank you for using the Civic Complaint System.\")\n",
        "            break\n",
        "        else:\n",
        "            print(\"❌ Invalid option. Please choose between 1 and 5.\")\n",
        "\n",
        "if __name__ == \"__main__\":\n",
        "    main()\n"
      ]
    },
    {
      "cell_type": "markdown",
      "metadata": {
        "id": "UvZDsVkZRL4W"
      },
      "source": [
        "**3.IDCHECKAI-DIGITAL IDENTIFY VERIFIER FOR CITIZENS**"
      ]
    },
    {
      "cell_type": "code",
      "source": [
        "import re\n",
        "\n",
        "# ✅ Aadhaar: 12 digits, must start with 2–9\n",
        "def validate_aadhaar(aadhaar):\n",
        "    return bool(re.fullmatch(r\"[2-9][0-9]{11}\", aadhaar))\n",
        "\n",
        "# ✅ PAN: 5 uppercase letters, 4 digits, 1 uppercase letter\n",
        "def validate_pan(pan):\n",
        "    return bool(re.fullmatch(r\"[A-Z]{5}[0-9]{4}[A-Z]\", pan.upper()))\n",
        "\n",
        "# ✅ Voter ID: 3 uppercase letters followed by 7 digits\n",
        "def validate_voter(voter_id):\n",
        "    return bool(re.fullmatch(r\"[A-Z]{3}[0-9]{7}\", voter_id.upper()))\n",
        "\n",
        "# ✅ General checker function\n",
        "def check_id(id_type, value):\n",
        "    if id_type == \"aadhaar\":\n",
        "        return validate_aadhaar(value)\n",
        "    elif id_type == \"pan\":\n",
        "        return validate_pan(value)\n",
        "    elif id_type == \"voter\":\n",
        "        return validate_voter(value)\n",
        "    else:\n",
        "        return False\n",
        "\n",
        "# 🔍 Test with sample inputs (corrected Aadhaar)\n",
        "print(\"🔎 Aadhaar: 234512341234 →\", \"Valid\" if validate_aadhaar(\"234512341234\") else \"Invalid\")\n",
        "print(\"🔎 PAN    : ABCDE1234F   →\", \"Valid\" if validate_pan(\"ABCDE1234F\") else \"Invalid\")\n",
        "print(\"🔎 Voter  : XYZ1234567   →\", \"Valid\" if validate_voter(\"XYZ1234567\") else \"Invalid\")\n"
      ],
      "metadata": {
        "colab": {
          "base_uri": "https://localhost:8080/",
          "height": 0
        },
        "id": "qDMs9SkgA9Ll",
        "outputId": "1137b3b6-90db-4d96-c5c9-b653df11d7c8"
      },
      "execution_count": 1,
      "outputs": [
        {
          "output_type": "stream",
          "name": "stdout",
          "text": [
            "🔎 Aadhaar: 234512341234 → Valid\n",
            "🔎 PAN    : ABCDE1234F   → Valid\n",
            "🔎 Voter  : XYZ1234567   → Valid\n"
          ]
        }
      ]
    },
    {
      "cell_type": "markdown",
      "source": [],
      "metadata": {
        "id": "UYRZaEv_B8yx"
      }
    }
  ],
  "metadata": {
    "colab": {
      "provenance": []
    },
    "kernelspec": {
      "display_name": "Python 3",
      "name": "python3"
    },
    "language_info": {
      "name": "python"
    }
  },
  "nbformat": 4,
  "nbformat_minor": 0
}